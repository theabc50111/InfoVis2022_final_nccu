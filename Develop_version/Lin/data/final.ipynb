{
 "cells": [
  {
   "cell_type": "code",
   "execution_count": 5,
   "id": "099533cd-9af7-410b-b8d1-b0b8e763c5ab",
   "metadata": {},
   "outputs": [],
   "source": [
    "import pandas as pd\n",
    "# os.chdir(os.getcwd()+'\\data.2021.11')\n",
    "target_col='rent_sno'\n",
    "\n",
    "def prepcoessing(target_col):\n",
    "    data=pd.read_csv(\"data.2021.11.csv\")\n",
    "    # data_g_rent=data.groupby([ 'rent_sno','date'])\n",
    "    # data_g_rent=pd.DataFrame(data_g_rent.size())\n",
    "    # to duration time\n",
    "    obj = pd.to_timedelta(data['trip_duration'])\n",
    "    # convert to minutes\n",
    "    obj=obj.dt.seconds // 60.0\n",
    "    data['time']=obj\n",
    "\n",
    "    def cat(x): \n",
    "        if x>=60:\n",
    "            return \">=1hour\"\n",
    "        else:\n",
    "            return str(int(x//10*10)) + '-' + str(int((x//10*10)+10))\n",
    "\n",
    "\n",
    "    def cat(x): \n",
    "        if x>=60:\n",
    "            return \"60 min up\"\n",
    "        elif x<30:\n",
    "            if int(x//5*5)<=5:\n",
    "                return \"0\"+str(int(x//5*5)) + '-0' + str(int((x//5*5)+5)-1)+\"min\"\n",
    "            else:\n",
    "                return str(int(x//5*5)) + '-' + str(int((x//5*5)+5)-1)+\"min\"\n",
    "\n",
    "        else:\n",
    "            return \"30-59min\"\n",
    "    def cat(x): \n",
    "        if x>=20:\n",
    "            return \"20 min up\"\n",
    "        elif x<20:\n",
    "            if int(x//5*5)<=5:\n",
    "                return \"0\"+str(int(x//5*5)) + '-' + str(int((x//5*5)+5)-1)+\"min\"\n",
    "            else:\n",
    "                return str(int(x//5*5)) + '-' + str(int((x//5*5)+5)-1)+\"min\"\n",
    "\n",
    "    #     else:\n",
    "    #         return \"30-59min\" \n",
    "\n",
    "    data['Val_cat']=list(map(cat, data.time))\n",
    "\n",
    "    data_g_rent=data.groupby([ 'rent_sno','date','Val_cat'])\n",
    "    data_g_rent=pd.DataFrame(data_g_rent.size())\n",
    "    for i in set(data[target_col]):\n",
    "        data_g_rent.loc[i,].to_csv(f'trip_time_{i}.csv')\n",
    "        data1=pd.read_csv(f'trip_time_{i}.csv')\n",
    "        data1=data1.rename({'0': 'value'}, axis='columns')\n",
    "        df_mapping = pd.DataFrame({\n",
    "            'Val_cat': ['0-5', '5-10', '10-15', '15-20', '20-25',  '25-30','30-59', '>=1hour'],\n",
    "        })\n",
    "        sort_mapping = df_mapping.reset_index().set_index('Val_cat')\n",
    "        # sort_mapping\n",
    "        data1['trip_time_index'] = data1['Val_cat'].map(sort_mapping['index'])\n",
    "        data1.sort_values(['date','trip_time_index'], ascending=True)\n",
    "        data1.to_csv('./dataset/trip_time/'+target_col+'_'+str(i)+'.csv',index=False)\n",
    "    return None\n",
    "\n",
    "prepcoessing(target_col)"
   ]
  },
  {
   "cell_type": "code",
   "execution_count": 6,
   "id": "484c4574-7b41-4a48-8aa3-ce65b4e637ab",
   "metadata": {},
   "outputs": [],
   "source": [
    "# prepcoessing(target_col)\n",
    "prepcoessing('return_sno')"
   ]
  },
  {
   "cell_type": "code",
   "execution_count": 7,
   "id": "cc8d5614-1422-4c34-ad41-06899d481336",
   "metadata": {},
   "outputs": [],
   "source": [
    "# !dir"
   ]
  },
  {
   "cell_type": "code",
   "execution_count": null,
   "id": "01553ffb-99e1-4d57-a01a-e0f756a3bc12",
   "metadata": {},
   "outputs": [],
   "source": []
  },
  {
   "cell_type": "code",
   "execution_count": null,
   "id": "36b691db-660a-4509-9787-14328d79e421",
   "metadata": {},
   "outputs": [],
   "source": []
  },
  {
   "cell_type": "code",
   "execution_count": null,
   "id": "e986aada-eae8-4222-8b86-950527c920a7",
   "metadata": {},
   "outputs": [],
   "source": []
  },
  {
   "cell_type": "code",
   "execution_count": null,
   "id": "a4a2793c-82e1-4b50-aafb-862045b1e14c",
   "metadata": {},
   "outputs": [],
   "source": []
  }
 ],
 "metadata": {
  "kernelspec": {
   "display_name": "Python 3 (ipykernel)",
   "language": "python",
   "name": "python3"
  },
  "language_info": {
   "codemirror_mode": {
    "name": "ipython",
    "version": 3
   },
   "file_extension": ".py",
   "mimetype": "text/x-python",
   "name": "python",
   "nbconvert_exporter": "python",
   "pygments_lexer": "ipython3",
   "version": "3.7.6"
  }
 },
 "nbformat": 4,
 "nbformat_minor": 5
}
